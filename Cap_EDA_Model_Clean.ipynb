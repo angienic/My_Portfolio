{
 "cells": [
  {
   "cell_type": "markdown",
   "metadata": {},
   "source": [
    "BrainStation Data Science Program <br>\n",
    "Capstone project_v1, notebook 1/3 <br>\n",
    "Angie Nicolás<br>\n",
    "July 18 2021\n"
   ]
  },
  {
   "cell_type": "markdown",
   "metadata": {},
   "source": [
    "# Tracing deforestation in supply chain transactions"
   ]
  },
  {
   "cell_type": "markdown",
   "metadata": {},
   "source": [
    "## Part I. EDA"
   ]
  },
  {
   "cell_type": "markdown",
   "metadata": {
    "hide_input": false
   },
   "source": [
    "For the first part of this project I aim to identify trading operations that may include commodities associated to deforestation risk. This was an exercise  in pooling data from multiple sources. In this notebook we combine data on deforestation associated to Soy & Beef production in Brazil. Data was downloaded in (inconveniently) separate datafiles from Trase (available at https://supplychains.trase.earth/data, accessed July 16,2021)."
   ]
  },
  {
   "cell_type": "markdown",
   "metadata": {},
   "source": [
    "### Libraries"
   ]
  },
  {
   "cell_type": "code",
   "execution_count": 20,
   "metadata": {},
   "outputs": [],
   "source": [
    "# Importing usual packages\n",
    "import pandas as pd\n",
    "import numpy as np\n",
    "import matplotlib.pyplot as plt\n",
    "import matplotlib\n",
    "import seaborn as sns\n",
    "\n",
    "#Importing date formatting tools\n",
    "from matplotlib.dates import DateFormatter\n",
    "import matplotlib.dates as mdates"
   ]
  },
  {
   "cell_type": "markdown",
   "metadata": {},
   "source": [
    "### Data loading "
   ]
  },
  {
   "cell_type": "code",
   "execution_count": 27,
   "metadata": {},
   "outputs": [],
   "source": [
    "# My data naming convention: B for Brazil, t for Trase, s for soy, b for beef, 15 for 2015,etc. Bts ->soy, Btb15->beef15\n",
    "soy_df= pd.read_csv('/Users/angie/Documents/BrainStation_Capstone/data/Trase_BRAZIL_SOY_2.5.1_pc.csv',warn_bad_lines=False)"
   ]
  },
  {
   "cell_type": "markdown",
   "metadata": {},
   "source": [
    "### Data wrangling for visualizations"
   ]
  },
  {
   "cell_type": "markdown",
   "metadata": {},
   "source": [
    "In this section our goal is to combine the available soy and beef deforestation data into a single dataframe we can later use for comparative visuals (see Tableau workbook). To get a sense of data format we take a glance at Soy data."
   ]
  },
  {
   "cell_type": "code",
   "execution_count": 3,
   "metadata": {},
   "outputs": [
    {
     "name": "stdout",
     "output_type": "stream",
     "text": [
      "We have 295637 rows and 23 columns of soy data\n"
     ]
    }
   ],
   "source": [
    "print(f'We have {len(soy_df)} rows and {len(soy_df.columns)} columns of soy data') "
   ]
  },
  {
   "cell_type": "code",
   "execution_count": 4,
   "metadata": {
    "scrolled": true
   },
   "outputs": [
    {
     "data": {
      "text/html": [
       "<div>\n",
       "<style scoped>\n",
       "    .dataframe tbody tr th:only-of-type {\n",
       "        vertical-align: middle;\n",
       "    }\n",
       "\n",
       "    .dataframe tbody tr th {\n",
       "        vertical-align: top;\n",
       "    }\n",
       "\n",
       "    .dataframe thead th {\n",
       "        text-align: right;\n",
       "    }\n",
       "</style>\n",
       "<table border=\"1\" class=\"dataframe\">\n",
       "  <thead>\n",
       "    <tr style=\"text-align: right;\">\n",
       "      <th></th>\n",
       "      <th>YEAR</th>\n",
       "      <th>COUNTRY OF PRODUCTION</th>\n",
       "      <th>BIOME</th>\n",
       "      <th>STATE</th>\n",
       "      <th>MUNICIPALITY</th>\n",
       "      <th>LOGISTICS HUB</th>\n",
       "      <th>PORT</th>\n",
       "      <th>EXPORTER</th>\n",
       "      <th>EXPORTER GROUP</th>\n",
       "      <th>IMPORTER</th>\n",
       "      <th>...</th>\n",
       "      <th>TYPE</th>\n",
       "      <th>CO2_EMISSIONS_SOY_DEFORESTATION_5_YEAR_ANNUAL_RISK_TCO2</th>\n",
       "      <th>TERRITORIAL_DEFORESTATION_RISK_HA</th>\n",
       "      <th>FOB_USD</th>\n",
       "      <th>CO2_EMISSIONS_TERRITORIAL_DEFORESTATION_RISK_TCO2/HA</th>\n",
       "      <th>SOY_DEFORESTATION_5_YEAR_ANNUAL_RISK_HA</th>\n",
       "      <th>SOY_EQUIVALENT_TONNES</th>\n",
       "      <th>LAND_USE_HA</th>\n",
       "      <th>ZERO_DEFORESTATION_BRAZIL_SOY</th>\n",
       "      <th>TRASE_GEOCODE</th>\n",
       "    </tr>\n",
       "  </thead>\n",
       "  <tbody>\n",
       "    <tr>\n",
       "      <th>0</th>\n",
       "      <td>2017</td>\n",
       "      <td>BRAZIL</td>\n",
       "      <td>AMAZONIA</td>\n",
       "      <td>ACRE</td>\n",
       "      <td>CAPIXABA</td>\n",
       "      <td>CAPIXABA</td>\n",
       "      <td>DOMESTIC CONSUMPTION</td>\n",
       "      <td>DOMESTIC CONSUMPTION</td>\n",
       "      <td>DOMESTIC CONSUMPTION</td>\n",
       "      <td>DOMESTIC CONSUMPTION</td>\n",
       "      <td>...</td>\n",
       "      <td>Soy bean equivalents</td>\n",
       "      <td>NaN</td>\n",
       "      <td>0.00126</td>\n",
       "      <td>0.0</td>\n",
       "      <td>0.894006</td>\n",
       "      <td>NaN</td>\n",
       "      <td>0.000093</td>\n",
       "      <td>0.000031</td>\n",
       "      <td>NaN</td>\n",
       "      <td>BR-1200179</td>\n",
       "    </tr>\n",
       "  </tbody>\n",
       "</table>\n",
       "<p>1 rows × 23 columns</p>\n",
       "</div>"
      ],
      "text/plain": [
       "   YEAR COUNTRY OF PRODUCTION     BIOME STATE MUNICIPALITY LOGISTICS HUB  \\\n",
       "0  2017                BRAZIL  AMAZONIA  ACRE     CAPIXABA      CAPIXABA   \n",
       "\n",
       "                   PORT              EXPORTER        EXPORTER GROUP  \\\n",
       "0  DOMESTIC CONSUMPTION  DOMESTIC CONSUMPTION  DOMESTIC CONSUMPTION   \n",
       "\n",
       "               IMPORTER  ...                  TYPE  \\\n",
       "0  DOMESTIC CONSUMPTION  ...  Soy bean equivalents   \n",
       "\n",
       "  CO2_EMISSIONS_SOY_DEFORESTATION_5_YEAR_ANNUAL_RISK_TCO2  \\\n",
       "0                                                NaN        \n",
       "\n",
       "  TERRITORIAL_DEFORESTATION_RISK_HA FOB_USD  \\\n",
       "0                           0.00126     0.0   \n",
       "\n",
       "   CO2_EMISSIONS_TERRITORIAL_DEFORESTATION_RISK_TCO2/HA  \\\n",
       "0                                           0.894006      \n",
       "\n",
       "   SOY_DEFORESTATION_5_YEAR_ANNUAL_RISK_HA  SOY_EQUIVALENT_TONNES  \\\n",
       "0                                      NaN               0.000093   \n",
       "\n",
       "   LAND_USE_HA  ZERO_DEFORESTATION_BRAZIL_SOY  TRASE_GEOCODE  \n",
       "0     0.000031                            NaN     BR-1200179  \n",
       "\n",
       "[1 rows x 23 columns]"
      ]
     },
     "execution_count": 4,
     "metadata": {},
     "output_type": "execute_result"
    }
   ],
   "source": [
    "# Checking first rows of Soy\n",
    "soy_df.head(1)"
   ]
  },
  {
   "cell_type": "markdown",
   "metadata": {},
   "source": [
    "* Who sells: Exporter and Exporter Group \n",
    "* Who buys: Importer, Importer Group, Destination Country, and Economic Bloc.\n",
    "* Fob_USD: Freight on Board. Shipment term that indicates whether the seller or buyer is liable for goods damaged during shipping.\n",
    "* Commodity equivalent: volume traded in tonnes. To facilitate comparisons between trade flows, Trase data are converted to a common equivalent based on the amount of unprocessed commodity needed to produce it.\n",
    "* Commodity_deforestation_5_year_annual_risk_Ha: Estimates a trader exposure to the risk that a commodity it is sourcing is directly associated with recent deforestation in the area where it was produced. Measured in hectares. (Trase takes the area of production in a year, then determines how much of it was cleared of native vegetation in recent years, and assigns that area to buyers proportionally to their share of the output from that production area).\n",
    "* Land_use_Ha: total hectares devoted to that crop or commodity production.\n",
    "* Zero_deforestation_Brazil = Publicly available *commitments* made by companies that their supply chains will not include commodities produced on recently deforested land."
   ]
  },
  {
   "cell_type": "markdown",
   "metadata": {},
   "source": [
    "We change string columns to Sentence Case and format date column as such. "
   ]
  },
  {
   "cell_type": "code",
   "execution_count": 36,
   "metadata": {},
   "outputs": [],
   "source": [
    "#To improve readability we format columns in our four df's to lower case.\n",
    "soy_df.columns= soy_df.columns.str.title()\n",
    "# String column content\n",
    "soy_df = soy_df.apply(lambda x: x.str.title() if(x.dtype == 'object') else x)"
   ]
  },
  {
   "cell_type": "code",
   "execution_count": 37,
   "metadata": {},
   "outputs": [],
   "source": [
    "# Formatting Date columns as dates\n",
    "soy_df['Year']= pd.to_datetime(soy_df['Year'], format='%Y')"
   ]
  },
  {
   "cell_type": "markdown",
   "metadata": {},
   "source": [
    "#### EDA"
   ]
  },
  {
   "cell_type": "code",
   "execution_count": 38,
   "metadata": {},
   "outputs": [
    {
     "data": {
      "text/plain": [
       "805379"
      ]
     },
     "execution_count": 38,
     "metadata": {},
     "output_type": "execute_result"
    }
   ],
   "source": [
    "# Counting total null values in df\n",
    "soy_df.isna().sum().sum()"
   ]
  },
  {
   "cell_type": "markdown",
   "metadata": {},
   "source": [
    "That's quite a lot of null values!"
   ]
  },
  {
   "cell_type": "code",
   "execution_count": 39,
   "metadata": {},
   "outputs": [
    {
     "data": {
      "text/plain": [
       "Year                                                            0\n",
       "Country Of Production                                           0\n",
       "Biome                                                           0\n",
       "State                                                           0\n",
       "Municipality                                                    0\n",
       "Logistics Hub                                                   0\n",
       "Port                                                            0\n",
       "Exporter                                                        0\n",
       "Exporter Group                                                  0\n",
       "Importer                                                        0\n",
       "Importer Group                                                  0\n",
       "Country                                                         0\n",
       "Economic Bloc                                                   0\n",
       "Type                                                            0\n",
       "Co2_Emissions_Soy_Deforestation_5_Year_Annual_Risk_Tco2    201470\n",
       "Territorial_Deforestation_Risk_Ha                          155892\n",
       "Fob_Usd                                                         0\n",
       "Co2_Emissions_Territorial_Deforestation_Risk_Tco2/Ha       155929\n",
       "Soy_Deforestation_5_Year_Annual_Risk_Ha                    201505\n",
       "Soy_Equivalent_Tonnes                                           0\n",
       "Land_Use_Ha                                                  7359\n",
       "Zero_Deforestation_Brazil_Soy                               83224\n",
       "Trase_Geocode                                                   0\n",
       "dtype: int64"
      ]
     },
     "execution_count": 39,
     "metadata": {},
     "output_type": "execute_result"
    }
   ],
   "source": [
    "# Which columns have misisng values\n",
    "soy_df.isnull().sum()"
   ]
  },
  {
   "cell_type": "markdown",
   "metadata": {},
   "source": [
    "Interestingly, all null values are in land use or deforestation-associated columns. Which means almost two-thirds of our 295637 original rows, do not have information on associated deforestation risk! Given this is our main focus of analysis, I would be inclined to keep only rows that contain at least one of the deforestation metrics, but we explore a bit more."
   ]
  },
  {
   "cell_type": "code",
   "execution_count": 40,
   "metadata": {},
   "outputs": [
    {
     "data": {
      "text/plain": [
       "23"
      ]
     },
     "execution_count": 40,
     "metadata": {},
     "output_type": "execute_result"
    }
   ],
   "source": [
    "# Check rows with only missing values. \n",
    "sum(map(all, soy_df.isnull()))"
   ]
  },
  {
   "cell_type": "code",
   "execution_count": 41,
   "metadata": {},
   "outputs": [
    {
     "data": {
      "text/plain": [
       "(295637, 23)"
      ]
     },
     "execution_count": 41,
     "metadata": {},
     "output_type": "execute_result"
    }
   ],
   "source": [
    "#These we can surely drop\n",
    "soy_df = soy_df.dropna(how='all')\n",
    "soy_df.shape"
   ]
  },
  {
   "cell_type": "markdown",
   "metadata": {},
   "source": [
    "The remaining extremely high proportion of nans continues though. Given they are spread throughout multiple columns and I don't have an objective way to choose which ones to leave or drop, in this exploratory notebook I keep these columns. For modelling, I it will likely be best to drop all rows with missing values in deforestation columns. For now,we explore categorical and numerical variables."
   ]
  },
  {
   "cell_type": "code",
   "execution_count": 42,
   "metadata": {
    "scrolled": false
   },
   "outputs": [
    {
     "data": {
      "text/html": [
       "<div>\n",
       "<style scoped>\n",
       "    .dataframe tbody tr th:only-of-type {\n",
       "        vertical-align: middle;\n",
       "    }\n",
       "\n",
       "    .dataframe tbody tr th {\n",
       "        vertical-align: top;\n",
       "    }\n",
       "\n",
       "    .dataframe thead th {\n",
       "        text-align: right;\n",
       "    }\n",
       "</style>\n",
       "<table border=\"1\" class=\"dataframe\">\n",
       "  <thead>\n",
       "    <tr style=\"text-align: right;\">\n",
       "      <th></th>\n",
       "      <th>count</th>\n",
       "      <th>unique</th>\n",
       "      <th>top</th>\n",
       "      <th>freq</th>\n",
       "    </tr>\n",
       "  </thead>\n",
       "  <tbody>\n",
       "    <tr>\n",
       "      <th>Country Of Production</th>\n",
       "      <td>295637</td>\n",
       "      <td>1</td>\n",
       "      <td>Brazil</td>\n",
       "      <td>295637</td>\n",
       "    </tr>\n",
       "    <tr>\n",
       "      <th>Biome</th>\n",
       "      <td>295637</td>\n",
       "      <td>7</td>\n",
       "      <td>Mata Atlantica</td>\n",
       "      <td>167708</td>\n",
       "    </tr>\n",
       "    <tr>\n",
       "      <th>State</th>\n",
       "      <td>295637</td>\n",
       "      <td>23</td>\n",
       "      <td>Parana</td>\n",
       "      <td>71988</td>\n",
       "    </tr>\n",
       "    <tr>\n",
       "      <th>Municipality</th>\n",
       "      <td>295637</td>\n",
       "      <td>2467</td>\n",
       "      <td>Unknown</td>\n",
       "      <td>7358</td>\n",
       "    </tr>\n",
       "    <tr>\n",
       "      <th>Logistics Hub</th>\n",
       "      <td>295637</td>\n",
       "      <td>1962</td>\n",
       "      <td>Sao Paulo</td>\n",
       "      <td>77244</td>\n",
       "    </tr>\n",
       "    <tr>\n",
       "      <th>Port</th>\n",
       "      <td>295637</td>\n",
       "      <td>44</td>\n",
       "      <td>Paranagua</td>\n",
       "      <td>84034</td>\n",
       "    </tr>\n",
       "    <tr>\n",
       "      <th>Exporter</th>\n",
       "      <td>295637</td>\n",
       "      <td>1715</td>\n",
       "      <td>Louis Dreyfus Company Brasil S.A.</td>\n",
       "      <td>68313</td>\n",
       "    </tr>\n",
       "    <tr>\n",
       "      <th>Exporter Group</th>\n",
       "      <td>295637</td>\n",
       "      <td>1676</td>\n",
       "      <td>Louis Dreyfus</td>\n",
       "      <td>77481</td>\n",
       "    </tr>\n",
       "    <tr>\n",
       "      <th>Importer</th>\n",
       "      <td>295637</td>\n",
       "      <td>1054</td>\n",
       "      <td>Louis Dreyfus</td>\n",
       "      <td>35966</td>\n",
       "    </tr>\n",
       "    <tr>\n",
       "      <th>Importer Group</th>\n",
       "      <td>295637</td>\n",
       "      <td>981</td>\n",
       "      <td>Bunge</td>\n",
       "      <td>49356</td>\n",
       "    </tr>\n",
       "    <tr>\n",
       "      <th>Country</th>\n",
       "      <td>295637</td>\n",
       "      <td>137</td>\n",
       "      <td>China (Mainland)</td>\n",
       "      <td>53416</td>\n",
       "    </tr>\n",
       "    <tr>\n",
       "      <th>Economic Bloc</th>\n",
       "      <td>295637</td>\n",
       "      <td>115</td>\n",
       "      <td>European Union</td>\n",
       "      <td>99382</td>\n",
       "    </tr>\n",
       "    <tr>\n",
       "      <th>Type</th>\n",
       "      <td>295637</td>\n",
       "      <td>1</td>\n",
       "      <td>Soy Bean Equivalents</td>\n",
       "      <td>295637</td>\n",
       "    </tr>\n",
       "    <tr>\n",
       "      <th>Zero_Deforestation_Brazil_Soy</th>\n",
       "      <td>212413</td>\n",
       "      <td>3</td>\n",
       "      <td>None</td>\n",
       "      <td>174660</td>\n",
       "    </tr>\n",
       "    <tr>\n",
       "      <th>Trase_Geocode</th>\n",
       "      <td>295637</td>\n",
       "      <td>2534</td>\n",
       "      <td>Br-Xxxxxxx</td>\n",
       "      <td>7358</td>\n",
       "    </tr>\n",
       "  </tbody>\n",
       "</table>\n",
       "</div>"
      ],
      "text/plain": [
       "                                count unique  \\\n",
       "Country Of Production          295637      1   \n",
       "Biome                          295637      7   \n",
       "State                          295637     23   \n",
       "Municipality                   295637   2467   \n",
       "Logistics Hub                  295637   1962   \n",
       "Port                           295637     44   \n",
       "Exporter                       295637   1715   \n",
       "Exporter Group                 295637   1676   \n",
       "Importer                       295637   1054   \n",
       "Importer Group                 295637    981   \n",
       "Country                        295637    137   \n",
       "Economic Bloc                  295637    115   \n",
       "Type                           295637      1   \n",
       "Zero_Deforestation_Brazil_Soy  212413      3   \n",
       "Trase_Geocode                  295637   2534   \n",
       "\n",
       "                                                             top    freq  \n",
       "Country Of Production                                     Brazil  295637  \n",
       "Biome                                             Mata Atlantica  167708  \n",
       "State                                                     Parana   71988  \n",
       "Municipality                                             Unknown    7358  \n",
       "Logistics Hub                                          Sao Paulo   77244  \n",
       "Port                                                   Paranagua   84034  \n",
       "Exporter                       Louis Dreyfus Company Brasil S.A.   68313  \n",
       "Exporter Group                                     Louis Dreyfus   77481  \n",
       "Importer                                           Louis Dreyfus   35966  \n",
       "Importer Group                                             Bunge   49356  \n",
       "Country                                         China (Mainland)   53416  \n",
       "Economic Bloc                                     European Union   99382  \n",
       "Type                                        Soy Bean Equivalents  295637  \n",
       "Zero_Deforestation_Brazil_Soy                               None  174660  \n",
       "Trase_Geocode                                         Br-Xxxxxxx    7358  "
      ]
     },
     "execution_count": 42,
     "metadata": {},
     "output_type": "execute_result"
    }
   ],
   "source": [
    "# Exploring categorical variables in Soy data\n",
    "soy_df.describe(include='object').T"
   ]
  },
  {
   "cell_type": "markdown",
   "metadata": {},
   "source": [
    "Above we see we got information on >295 thousand commercial transactions in 2004-2018 involving soy destined to 137 different countries."
   ]
  },
  {
   "cell_type": "code",
   "execution_count": 43,
   "metadata": {
    "scrolled": true
   },
   "outputs": [
    {
     "data": {
      "text/html": [
       "<div>\n",
       "<style scoped>\n",
       "    .dataframe tbody tr th:only-of-type {\n",
       "        vertical-align: middle;\n",
       "    }\n",
       "\n",
       "    .dataframe tbody tr th {\n",
       "        vertical-align: top;\n",
       "    }\n",
       "\n",
       "    .dataframe thead th {\n",
       "        text-align: right;\n",
       "    }\n",
       "</style>\n",
       "<table border=\"1\" class=\"dataframe\">\n",
       "  <thead>\n",
       "    <tr style=\"text-align: right;\">\n",
       "      <th></th>\n",
       "      <th>count</th>\n",
       "      <th>mean</th>\n",
       "      <th>std</th>\n",
       "      <th>min</th>\n",
       "      <th>25%</th>\n",
       "      <th>50%</th>\n",
       "      <th>75%</th>\n",
       "      <th>max</th>\n",
       "    </tr>\n",
       "  </thead>\n",
       "  <tbody>\n",
       "    <tr>\n",
       "      <th>Co2_Emissions_Soy_Deforestation_5_Year_Annual_Risk_Tco2</th>\n",
       "      <td>94167.0</td>\n",
       "      <td>2.436523e+03</td>\n",
       "      <td>1.692948e+04</td>\n",
       "      <td>0.0</td>\n",
       "      <td>1.5</td>\n",
       "      <td>22.8</td>\n",
       "      <td>318.600</td>\n",
       "      <td>965591.1</td>\n",
       "    </tr>\n",
       "    <tr>\n",
       "      <th>Territorial_Deforestation_Risk_Ha</th>\n",
       "      <td>139745.0</td>\n",
       "      <td>1.009075e+02</td>\n",
       "      <td>7.731010e+02</td>\n",
       "      <td>0.0</td>\n",
       "      <td>0.1</td>\n",
       "      <td>1.1</td>\n",
       "      <td>13.200</td>\n",
       "      <td>73623.5</td>\n",
       "    </tr>\n",
       "    <tr>\n",
       "      <th>Fob_Usd</th>\n",
       "      <td>295637.0</td>\n",
       "      <td>1.103845e+06</td>\n",
       "      <td>5.436982e+06</td>\n",
       "      <td>0.0</td>\n",
       "      <td>4352.9</td>\n",
       "      <td>54419.9</td>\n",
       "      <td>428398.200</td>\n",
       "      <td>673707308.0</td>\n",
       "    </tr>\n",
       "    <tr>\n",
       "      <th>Co2_Emissions_Territorial_Deforestation_Risk_Tco2/Ha</th>\n",
       "      <td>139708.0</td>\n",
       "      <td>2.560888e+04</td>\n",
       "      <td>3.598023e+05</td>\n",
       "      <td>0.0</td>\n",
       "      <td>27.0</td>\n",
       "      <td>263.6</td>\n",
       "      <td>2731.525</td>\n",
       "      <td>43111087.7</td>\n",
       "    </tr>\n",
       "    <tr>\n",
       "      <th>Soy_Deforestation_5_Year_Annual_Risk_Ha</th>\n",
       "      <td>94132.0</td>\n",
       "      <td>1.416199e+01</td>\n",
       "      <td>1.072326e+02</td>\n",
       "      <td>0.0</td>\n",
       "      <td>0.0</td>\n",
       "      <td>0.1</td>\n",
       "      <td>1.700</td>\n",
       "      <td>8006.0</td>\n",
       "    </tr>\n",
       "    <tr>\n",
       "      <th>Soy_Equivalent_Tonnes</th>\n",
       "      <td>295637.0</td>\n",
       "      <td>3.831109e+03</td>\n",
       "      <td>1.719618e+04</td>\n",
       "      <td>0.0</td>\n",
       "      <td>18.0</td>\n",
       "      <td>189.3</td>\n",
       "      <td>1460.500</td>\n",
       "      <td>1766522.9</td>\n",
       "    </tr>\n",
       "    <tr>\n",
       "      <th>Land_Use_Ha</th>\n",
       "      <td>288278.0</td>\n",
       "      <td>1.258314e+03</td>\n",
       "      <td>5.230558e+03</td>\n",
       "      <td>0.0</td>\n",
       "      <td>6.7</td>\n",
       "      <td>66.8</td>\n",
       "      <td>500.000</td>\n",
       "      <td>274757.3</td>\n",
       "    </tr>\n",
       "  </tbody>\n",
       "</table>\n",
       "</div>"
      ],
      "text/plain": [
       "                                                       count          mean  \\\n",
       "Co2_Emissions_Soy_Deforestation_5_Year_Annual_R...   94167.0  2.436523e+03   \n",
       "Territorial_Deforestation_Risk_Ha                   139745.0  1.009075e+02   \n",
       "Fob_Usd                                             295637.0  1.103845e+06   \n",
       "Co2_Emissions_Territorial_Deforestation_Risk_Tc...  139708.0  2.560888e+04   \n",
       "Soy_Deforestation_5_Year_Annual_Risk_Ha              94132.0  1.416199e+01   \n",
       "Soy_Equivalent_Tonnes                               295637.0  3.831109e+03   \n",
       "Land_Use_Ha                                         288278.0  1.258314e+03   \n",
       "\n",
       "                                                             std  min     25%  \\\n",
       "Co2_Emissions_Soy_Deforestation_5_Year_Annual_R...  1.692948e+04  0.0     1.5   \n",
       "Territorial_Deforestation_Risk_Ha                   7.731010e+02  0.0     0.1   \n",
       "Fob_Usd                                             5.436982e+06  0.0  4352.9   \n",
       "Co2_Emissions_Territorial_Deforestation_Risk_Tc...  3.598023e+05  0.0    27.0   \n",
       "Soy_Deforestation_5_Year_Annual_Risk_Ha             1.072326e+02  0.0     0.0   \n",
       "Soy_Equivalent_Tonnes                               1.719618e+04  0.0    18.0   \n",
       "Land_Use_Ha                                         5.230558e+03  0.0     6.7   \n",
       "\n",
       "                                                        50%         75%  \\\n",
       "Co2_Emissions_Soy_Deforestation_5_Year_Annual_R...     22.8     318.600   \n",
       "Territorial_Deforestation_Risk_Ha                       1.1      13.200   \n",
       "Fob_Usd                                             54419.9  428398.200   \n",
       "Co2_Emissions_Territorial_Deforestation_Risk_Tc...    263.6    2731.525   \n",
       "Soy_Deforestation_5_Year_Annual_Risk_Ha                 0.1       1.700   \n",
       "Soy_Equivalent_Tonnes                                 189.3    1460.500   \n",
       "Land_Use_Ha                                            66.8     500.000   \n",
       "\n",
       "                                                            max  \n",
       "Co2_Emissions_Soy_Deforestation_5_Year_Annual_R...     965591.1  \n",
       "Territorial_Deforestation_Risk_Ha                       73623.5  \n",
       "Fob_Usd                                             673707308.0  \n",
       "Co2_Emissions_Territorial_Deforestation_Risk_Tc...   43111087.7  \n",
       "Soy_Deforestation_5_Year_Annual_Risk_Ha                  8006.0  \n",
       "Soy_Equivalent_Tonnes                                 1766522.9  \n",
       "Land_Use_Ha                                            274757.3  "
      ]
     },
     "execution_count": 43,
     "metadata": {},
     "output_type": "execute_result"
    }
   ],
   "source": [
    "# Summary stats of Soy numeric columns\n",
    "soy_df.round(decimals=1).describe().T"
   ]
  },
  {
   "cell_type": "code",
   "execution_count": 45,
   "metadata": {
    "scrolled": true
   },
   "outputs": [
    {
     "data": {
      "image/png": "[encoded data removed]",
      "text/plain": [
       "<Figure size 432x288 with 1 Axes>"
      ]
     },
     "metadata": {
      "needs_background": "light"
     },
     "output_type": "display_data"
    }
   ],
   "source": [
    "#Exploring soy products Zero_Deforestation commitments\n",
    "soycfig= soy_df[\"Zero_Deforestation_Brazil_Soy\"].value_counts().plot(kind=\"bar\")\n",
    "plt.ylabel(\"Count\")\n",
    "plt.xticks(rotation=0)\n",
    "plt.title('Soy trading transactions and zero deforestation commitments')\n",
    "sns.despine()\n",
    "#plt.show();\n",
    "#plt.savefig('/Users/angie/Documents/BrainStation_Capstone/myplots/Soycommits.jpg')"
   ]
  },
  {
   "cell_type": "code",
   "execution_count": 47,
   "metadata": {},
   "outputs": [
    {
     "data": {
      "text/plain": [
       "(59497, 23)"
      ]
     },
     "execution_count": 47,
     "metadata": {},
     "output_type": "execute_result"
    }
   ],
   "source": [
    "#ABove plot includes nulls. Here I drop them\n",
    "soynona_df= soy_df.dropna() \n",
    "soynona_df.shape"
   ]
  },
  {
   "cell_type": "code",
   "execution_count": 84,
   "metadata": {},
   "outputs": [],
   "source": [
    "soynona_df.to_csv('clean_soy.csv', index=True)"
   ]
  },
  {
   "cell_type": "code",
   "execution_count": 49,
   "metadata": {
    "scrolled": true
   },
   "outputs": [
    {
     "data": {
      "image/png": "[encoded data removed]",
      "text/plain": [
       "<Figure size 432x288 with 1 Axes>"
      ]
     },
     "metadata": {
      "needs_background": "light"
     },
     "output_type": "display_data"
    }
   ],
   "source": [
    "soynona_df[\"Zero_Deforestation_Brazil_Soy\"].value_counts().plot(kind=\"bar\")\n",
    "plt.ylabel(\"Count\")\n",
    "plt.xticks(rotation=0)\n",
    "plt.title('No-deforestation commits in soy (no-nulls)')\n",
    "sns.despine()\n",
    "plt.show();"
   ]
  },
  {
   "cell_type": "code",
   "execution_count": 71,
   "metadata": {},
   "outputs": [
    {
     "ename": "KeyError",
     "evalue": "array(['Company Commitment', 'None', 'Soy Moratorium'], dtype=object)",
     "output_type": "error",
     "traceback": [
      "\u001b[0;31m---------------------------------------------------------------------------\u001b[0m",
      "\u001b[0;31mKeyError\u001b[0m                                  Traceback (most recent call last)",
      "\u001b[0;32m<ipython-input-71-6753bd1d41b7>\u001b[0m in \u001b[0;36m<module>\u001b[0;34m\u001b[0m\n\u001b[1;32m      4\u001b[0m \u001b[0mplt\u001b[0m\u001b[0;34m.\u001b[0m\u001b[0mfigure\u001b[0m\u001b[0;34m(\u001b[0m\u001b[0;34m)\u001b[0m\u001b[0;34m\u001b[0m\u001b[0;34m\u001b[0m\u001b[0m\n\u001b[1;32m      5\u001b[0m \u001b[0mplt\u001b[0m\u001b[0;34m.\u001b[0m\u001b[0mbar\u001b[0m\u001b[0;34m(\u001b[0m\u001b[0mvalues\u001b[0m\u001b[0;34m,\u001b[0m \u001b[0mnormalized_counts\u001b[0m \u001b[0;34m*\u001b[0m \u001b[0;36m100\u001b[0m\u001b[0;34m,\u001b[0m \u001b[0mcolor\u001b[0m\u001b[0;34m=\u001b[0m\u001b[0;34m'g'\u001b[0m\u001b[0;34m)\u001b[0m\u001b[0;34m\u001b[0m\u001b[0;34m\u001b[0m\u001b[0m\n\u001b[0;32m----> 6\u001b[0;31m \u001b[0morder\u001b[0m\u001b[0;34m=\u001b[0m\u001b[0msoynona_df\u001b[0m\u001b[0;34m.\u001b[0m\u001b[0msort_values\u001b[0m\u001b[0;34m(\u001b[0m\u001b[0mnp\u001b[0m\u001b[0;34m.\u001b[0m\u001b[0munique\u001b[0m\u001b[0;34m(\u001b[0m\u001b[0msoynona_df\u001b[0m\u001b[0;34m[\u001b[0m\u001b[0;34m'Zero_Deforestation_Brazil_Soy'\u001b[0m\u001b[0;34m]\u001b[0m\u001b[0;34m)\u001b[0m\u001b[0;34m,\u001b[0m\u001b[0mascending\u001b[0m \u001b[0;34m=\u001b[0m \u001b[0;32mTrue\u001b[0m\u001b[0;34m)\u001b[0m\u001b[0;34m\u001b[0m\u001b[0;34m\u001b[0m\u001b[0m\n\u001b[0m\u001b[1;32m      7\u001b[0m \u001b[0;34m\u001b[0m\u001b[0m\n\u001b[1;32m      8\u001b[0m \u001b[0;31m#plt.xlabel('Commitments')\u001b[0m\u001b[0;34m\u001b[0m\u001b[0;34m\u001b[0m\u001b[0;34m\u001b[0m\u001b[0m\n",
      "\u001b[0;32m~/opt/anaconda3/envs/timeseries/lib/python3.8/site-packages/pandas/core/frame.py\u001b[0m in \u001b[0;36msort_values\u001b[0;34m(self, by, axis, ascending, inplace, kind, na_position, ignore_index, key)\u001b[0m\n\u001b[1;32m   5453\u001b[0m \u001b[0;34m\u001b[0m\u001b[0m\n\u001b[1;32m   5454\u001b[0m             \u001b[0mby\u001b[0m \u001b[0;34m=\u001b[0m \u001b[0mby\u001b[0m\u001b[0;34m[\u001b[0m\u001b[0;36m0\u001b[0m\u001b[0;34m]\u001b[0m\u001b[0;34m\u001b[0m\u001b[0;34m\u001b[0m\u001b[0m\n\u001b[0;32m-> 5455\u001b[0;31m             \u001b[0mk\u001b[0m \u001b[0;34m=\u001b[0m \u001b[0mself\u001b[0m\u001b[0;34m.\u001b[0m\u001b[0m_get_label_or_level_values\u001b[0m\u001b[0;34m(\u001b[0m\u001b[0mby\u001b[0m\u001b[0;34m,\u001b[0m \u001b[0maxis\u001b[0m\u001b[0;34m=\u001b[0m\u001b[0maxis\u001b[0m\u001b[0;34m)\u001b[0m\u001b[0;34m\u001b[0m\u001b[0;34m\u001b[0m\u001b[0m\n\u001b[0m\u001b[1;32m   5456\u001b[0m \u001b[0;34m\u001b[0m\u001b[0m\n\u001b[1;32m   5457\u001b[0m             \u001b[0;31m# need to rewrap column in Series to apply key function\u001b[0m\u001b[0;34m\u001b[0m\u001b[0;34m\u001b[0m\u001b[0;34m\u001b[0m\u001b[0m\n",
      "\u001b[0;32m~/opt/anaconda3/envs/timeseries/lib/python3.8/site-packages/pandas/core/generic.py\u001b[0m in \u001b[0;36m_get_label_or_level_values\u001b[0;34m(self, key, axis)\u001b[0m\n\u001b[1;32m   1682\u001b[0m             \u001b[0mvalues\u001b[0m \u001b[0;34m=\u001b[0m \u001b[0mself\u001b[0m\u001b[0;34m.\u001b[0m\u001b[0maxes\u001b[0m\u001b[0;34m[\u001b[0m\u001b[0maxis\u001b[0m\u001b[0;34m]\u001b[0m\u001b[0;34m.\u001b[0m\u001b[0mget_level_values\u001b[0m\u001b[0;34m(\u001b[0m\u001b[0mkey\u001b[0m\u001b[0;34m)\u001b[0m\u001b[0;34m.\u001b[0m\u001b[0m_values\u001b[0m\u001b[0;34m\u001b[0m\u001b[0;34m\u001b[0m\u001b[0m\n\u001b[1;32m   1683\u001b[0m         \u001b[0;32melse\u001b[0m\u001b[0;34m:\u001b[0m\u001b[0;34m\u001b[0m\u001b[0;34m\u001b[0m\u001b[0m\n\u001b[0;32m-> 1684\u001b[0;31m             \u001b[0;32mraise\u001b[0m \u001b[0mKeyError\u001b[0m\u001b[0;34m(\u001b[0m\u001b[0mkey\u001b[0m\u001b[0;34m)\u001b[0m\u001b[0;34m\u001b[0m\u001b[0;34m\u001b[0m\u001b[0m\n\u001b[0m\u001b[1;32m   1685\u001b[0m \u001b[0;34m\u001b[0m\u001b[0m\n\u001b[1;32m   1686\u001b[0m         \u001b[0;31m# Check for duplicates\u001b[0m\u001b[0;34m\u001b[0m\u001b[0;34m\u001b[0m\u001b[0;34m\u001b[0m\u001b[0m\n",
      "\u001b[0;31mKeyError\u001b[0m: array(['Company Commitment', 'None', 'Soy Moratorium'], dtype=object)"
     ]
    },
    {
     "data": {
      "image/png": "[encoded data removed]",
      "text/plain": [
       "<Figure size 432x288 with 1 Axes>"
      ]
     },
     "metadata": {},
     "output_type": "display_data"
    }
   ],
   "source": [
    "#Barplot of normalized counts\n",
    "values, counts = np.unique(soynona_df['Zero_Deforestation_Brazil_Soy'],return_counts=True)\n",
    "normalized_counts = counts/counts.sum()\n",
    "plt.figure()\n",
    "plt.bar(values, normalized_counts * 100, color='g')\n",
    "order=soynona_df.sort_values(np.unique(soynona_df['Zero_Deforestation_Brazil_Soy']),ascending = True)\n",
    "\n",
    "#plt.xlabel('Commitments')\n",
    "plt.ylabel('Proportion of transactions (%)')\n",
    "plt.title(\"No-deforestation commits in soy (no-nulls)\")\n",
    "sns.despine()\n",
    "plt.show();"
   ]
  },
  {
   "cell_type": "code",
   "execution_count": 65,
   "metadata": {},
   "outputs": [
    {
     "ename": "NameError",
     "evalue": "name 'normalized_values' is not defined",
     "output_type": "error",
     "traceback": [
      "\u001b[0;31m---------------------------------------------------------------------------\u001b[0m",
      "\u001b[0;31mNameError\u001b[0m                                 Traceback (most recent call last)",
      "\u001b[0;32m<ipython-input-65-3d3b43fd1600>\u001b[0m in \u001b[0;36m<module>\u001b[0;34m\u001b[0m\n\u001b[1;32m      6\u001b[0m             \u001b[0my\u001b[0m\u001b[0;34m=\u001b[0m\u001b[0;34m\"normalized_counts\"\u001b[0m\u001b[0;34m,\u001b[0m\u001b[0;34m\u001b[0m\u001b[0;34m\u001b[0m\u001b[0m\n\u001b[1;32m      7\u001b[0m             \u001b[0mdata\u001b[0m\u001b[0;34m=\u001b[0m \u001b[0msoynona_df\u001b[0m\u001b[0;34m,\u001b[0m\u001b[0;34m\u001b[0m\u001b[0;34m\u001b[0m\u001b[0m\n\u001b[0;32m----> 8\u001b[0;31m             order=soynona_df.sort_values(normalized_values,ascending = True))\n\u001b[0m\u001b[1;32m      9\u001b[0m \u001b[0;31m# set labels\u001b[0m\u001b[0;34m\u001b[0m\u001b[0;34m\u001b[0m\u001b[0;34m\u001b[0m\u001b[0m\n\u001b[1;32m     10\u001b[0m \u001b[0mplt\u001b[0m\u001b[0;34m.\u001b[0m\u001b[0mxlabel\u001b[0m\u001b[0;34m(\u001b[0m\u001b[0;34m\"Commits\"\u001b[0m\u001b[0;34m,\u001b[0m \u001b[0msize\u001b[0m\u001b[0;34m=\u001b[0m\u001b[0;36m15\u001b[0m\u001b[0;34m)\u001b[0m\u001b[0;34m\u001b[0m\u001b[0;34m\u001b[0m\u001b[0m\n",
      "\u001b[0;31mNameError\u001b[0m: name 'normalized_values' is not defined"
     ]
    },
    {
     "data": {
      "text/plain": [
       "<Figure size 720x432 with 0 Axes>"
      ]
     },
     "metadata": {},
     "output_type": "display_data"
    }
   ],
   "source": [
    "plt.figure(figsize=(10,6))\n",
    "values, counts = np.unique(soynona_df['Zero_Deforestation_Brazil_Soy'],return_counts=True)\n",
    "normalized_counts = counts/counts.sum()\n",
    "# make barplot and sort bars in descending order\n",
    "sns.barplot(x='Zero_Deforestation_Brazil_Soy', \n",
    "            y=\"normalized_counts\",\n",
    "            data= soynona_df, \n",
    "            order=soynona_df.sort_values('normalized_values',ascending = True))\n",
    "# set labels\n",
    "plt.xlabel(\"Commits\", size=15)\n",
    "plt.ylabel(\"Proportion(%)\", size=15)\n",
    "plt.title(\"No-deforestation commits in soy (no-nulls)\", size=18)\n",
    "plt.tight_layout()\n",
    "#plt.savefig(\"sort_bars_in_barplot_descending_order_Seaborn_Python.png\", dpi=100)"
   ]
  },
  {
   "cell_type": "markdown",
   "metadata": {},
   "source": [
    "In future iterations, I'll print this as proportions. For now, let's just let the sheer number of soy transactions that are not associated to any type of non-deforestation commitment sink in."
   ]
  },
  {
   "cell_type": "code",
   "execution_count": 59,
   "metadata": {},
   "outputs": [
    {
     "data": {
      "image/png": "[encoded data removed]",
      "text/plain": [
       "<Figure size 468x468 with 1 Axes>"
      ]
     },
     "metadata": {},
     "output_type": "display_data"
    }
   ],
   "source": [
    "#Scatter plot for latter\n",
    "sns.set_theme(style=\"whitegrid\")\n",
    "# Draw a scatter plot while assigning point colors and sizes to different\n",
    "# variables in the dataset\n",
    "f, ax = plt.subplots(figsize=(6.5, 6.5))\n",
    "sns.despine(f, left=True, bottom=True)\n",
    "commits = [\"None\", \"Soy Moratorium\", \"Company Commitment\"]\n",
    "sns.scatterplot(x=\"Year\", y=\"Land_Use_Ha\",\n",
    "                hue=\"Zero_Deforestation_Brazil_Soy\", #size=\"depth\",\n",
    "                palette=\"ch:r=-.2,d=.3_r\",\n",
    "                hue_order=commits,\n",
    "                #sizes=(1, 8), linewidth=0,\n",
    "                data=soynona_df, ax=ax).set_title('Non-deforestation commitments over time');"
   ]
  },
  {
   "cell_type": "code",
   "execution_count": 81,
   "metadata": {},
   "outputs": [
    {
     "data": {
      "image/png": "[encoded data removed]",
      "text/plain": [
       "<Figure size 468x468 with 1 Axes>"
      ]
     },
     "metadata": {},
     "output_type": "display_data"
    }
   ],
   "source": [
    "#Scatter plot for latter\n",
    "sns.set_theme(style=\"whitegrid\")\n",
    "# Draw a scatter plot while assigning point colors and sizes to different\n",
    "# variables in the dataset\n",
    "f, ax = plt.subplots(figsize=(6.5, 6.5))\n",
    "sns.despine(f, left=True, bottom=True)\n",
    "commits = [\"None\", \"Soy Moratorium\", \"Company Commitment\"]\n",
    "sns.scatterplot(x=\"Year\", y=\"Land_Use_Ha\",\n",
    "                hue=\"Zero_Deforestation_Brazil_Soy\", #size=\"depth\",\n",
    "                palette=\"ch:r=-.2,d=.3_r\",\n",
    "                hue_order=commits,\n",
    "                #sizes=(1, 15), linewidth=0,\n",
    "                s=120,\n",
    "                data=soynona_df, ax=ax).set_title('Non-deforestation commitments over time')\n",
    "handles, labels = ax.get_legend_handles_labels()\n",
    "ax.legend(handles=handles[0:], labels=labels[0:]);"
   ]
  },
  {
   "cell_type": "code",
   "execution_count": null,
   "metadata": {},
   "outputs": [],
   "source": [
    "soy_df.columns"
   ]
  },
  {
   "cell_type": "code",
   "execution_count": null,
   "metadata": {
    "scrolled": true
   },
   "outputs": [],
   "source": [
    "soy_df[\"Soy_Deforestation_5_Year_Annual_Risk_Ha\"].value_counts().plot(kind=\"bar\")\n",
    "sns.despine()\n",
    "plt.xticks(rotation=0)\n",
    "plt.title('Soy transactions and non deforestation commitments')\n",
    "plt.ylabel('Counts (mill)')\n",
    "plt.xlabel('Name of public commitment')\n",
    "#plt.show();\n",
    "plt.savefig('/Users/angie/Documents/BrainStation_Capstone/myplots/Beefcommits.jpg')"
   ]
  },
  {
   "cell_type": "code",
   "execution_count": null,
   "metadata": {},
   "outputs": [],
   "source": [
    "soy_df[\"Zero_Deforest_Commit\"].value_counts(normalize=True).plot(kind=\"bar\")\n",
    "sns.despine()\n",
    "plt.xticks(rotation=0)\n",
    "plt.title('Zero_Deforest_Commit')\n",
    "plt.ylabel('Counts (mill)')\n",
    "plt.xlabel('Name of public commitment')\n",
    "plt.show();\n",
    "#plt.savefig('/Users/angie/Documents/BrainStation_Capstone/myplots/Beefcommits.jpg')\n",
    "sns.despine()"
   ]
  },
  {
   "cell_type": "code",
   "execution_count": null,
   "metadata": {},
   "outputs": [],
   "source": [
    "df = sns.load_dataset(\"tips\")\n",
    "x, y, hue = \"day\", \"proportion\", \"sex\"\n",
    "hue_order = [\"Male\", \"Female\"]\n",
    "\n",
    "(df[x]\n",
    " .groupby(df[hue])\n",
    " .value_counts(normalize=True)\n",
    " .rename(y)\n",
    " .reset_index()\n",
    " .pipe((sns.barplot, \"data\"), x=x, y=y, hue=hue)"
   ]
  },
  {
   "cell_type": "markdown",
   "metadata": {},
   "source": [
    "Notice the y axis is in a scale of millions (1e6 overlapping with first letter of title). We can see most beef transactions were NOT associated to any zero deforestation commitment."
   ]
  },
  {
   "cell_type": "markdown",
   "metadata": {},
   "source": [
    "#### Comparing soy & beef"
   ]
  },
  {
   "cell_type": "markdown",
   "metadata": {},
   "source": [
    "I thought in order to make comparisons and visual explorations it would help to stack our soy and beef dfs into one. We now check if column order would allow that. <br> (Note to reader: apologies for jumping between soy and beef combined data sets in advance)"
   ]
  },
  {
   "cell_type": "code",
   "execution_count": null,
   "metadata": {
    "scrolled": true
   },
   "outputs": [],
   "source": [
    "print(f'There are {len(soy_df.columns)} columns in Soy data, and {len(beef15_df.columns)} columns in Beef data, but are they the same?')"
   ]
  },
  {
   "cell_type": "code",
   "execution_count": null,
   "metadata": {},
   "outputs": [],
   "source": [
    "# List of columns of each dataframe\n",
    "soy_cols=list(soy_df.columns)\n",
    "beef15_cols=list(beef15_df.columns)\n",
    "beef16_cols=list(beef16_df.columns)\n",
    "beef17_cols=list(beef16_df.columns)\n",
    "\n",
    "# Creating small view df just to compare column names and order. \n",
    "#(Yes, I realize this archaic method would be useless with more features, but it's what I could do)\n",
    "match = pd.DataFrame()\n",
    "match['Soy']  = soy_cols\n",
    "match['Beef15'] = beef15_cols\n",
    "match['Beef16'] = beef16_cols\n",
    "match['Beef17'] = beef17_cols\n",
    "match"
   ]
  },
  {
   "cell_type": "markdown",
   "metadata": {},
   "source": [
    "Notice that column 'Port' in Soy df (row6) misaligns comparable columns across datasets. As we don't have an equivalent column for beef data, we drop it for now. In an effort to remove unnecessary columns we also drop those related to logistics, Country Of Production (redundant, since it's all Brazil data), individual municipalities, import and exporters (keeping only groups) and CO2 emissions that we will not analyze in this project."
   ]
  },
  {
   "cell_type": "code",
   "execution_count": null,
   "metadata": {
    "scrolled": true
   },
   "outputs": [],
   "source": [
    "# Removing extras from original Soy df\n",
    "soy_df= soy_df.drop(['Country Of Production','Municipality','Logistics Hub','Port','Exporter', 'Importer','Co2_Emissions_Soy_Deforestation_5_Year_Annual_Risk_Tco2','Co2_Emissions_Territorial_Deforestation_Risk_Tco2/Ha'], axis=1)\n",
    "\n",
    "#Adding a column to indicate all these rows came from Soy df\n",
    "soy_df['Product_Descr']='Soy'\n",
    "soy_df.shape"
   ]
  },
  {
   "cell_type": "markdown",
   "metadata": {},
   "source": [
    "We now do the same with beef dfs, removing equivalent columns"
   ]
  },
  {
   "cell_type": "code",
   "execution_count": null,
   "metadata": {},
   "outputs": [],
   "source": [
    "# Removing from Beef dfs \n",
    "#2015\n",
    "beef15_df= beef15_df.drop(['Country Of Production','Municipality','Logistics Hub','Exporter', 'Importer','Co2_Emissions_Territorial_Deforestation_Risk_Tco2','Co2_Emissions_Cattle_Deforestation_5_Year_Annual_Risk'], axis=1)\n",
    "beef15_df.shape"
   ]
  },
  {
   "cell_type": "code",
   "execution_count": null,
   "metadata": {},
   "outputs": [],
   "source": [
    "#2016\n",
    "beef16_df= beef16_df.drop(['Country Of Production','Municipality','Logistics Hub','Exporter', 'Importer', 'Co2_Emissions_Territorial_Deforestation_Risk_Tco2','Co2_Emissions_Cattle_Deforestation_5_Year_Annual_Risk'], axis=1)\n",
    "beef16_df.shape"
   ]
  },
  {
   "cell_type": "code",
   "execution_count": null,
   "metadata": {},
   "outputs": [],
   "source": [
    "#2017\n",
    "beef17_df= beef17_df.drop(['Country Of Production','Municipality','Logistics Hub','Exporter', 'Importer','Co2_Emissions_Territorial_Deforestation_Risk_Tco2','Co2_Emissions_Cattle_Deforestation_5_Year_Annual_Risk'], axis=1)\n",
    "beef17_df.shape"
   ]
  },
  {
   "cell_type": "markdown",
   "metadata": {},
   "source": [
    "We compare rearranged columns of soy and beef"
   ]
  },
  {
   "cell_type": "code",
   "execution_count": null,
   "metadata": {},
   "outputs": [],
   "source": [
    "# Creating small view df for chekcing new column order\n",
    "soy_cols=list(soy_df.columns)\n",
    "beef15_cols=list(beef15_df.columns)\n",
    "beef16_cols=list(beef16_df.columns)\n",
    "beef17_cols=list(beef17_df.columns)\n",
    "\n",
    "rematch = pd.DataFrame()\n",
    "rematch['Soy']  = soy_cols\n",
    "rematch['Beef15'] = beef15_cols\n",
    "rematch['Beef16'] = beef16_cols\n",
    "rematch['Beef17'] = beef17_cols\n",
    "rematch"
   ]
  },
  {
   "cell_type": "markdown",
   "metadata": {},
   "source": [
    "Almost there! We just need to match corresponding columns with the same name."
   ]
  },
  {
   "cell_type": "code",
   "execution_count": null,
   "metadata": {},
   "outputs": [],
   "source": [
    "# Locating columns in one commodity but not the other\n",
    "uncommon = []\n",
    "for name in beef15_cols:\n",
    "    if name not in soy_cols:\n",
    "        uncommon.append(name)\n",
    "        \n",
    "print(f'There are {len(uncommon)}/16 columns in soy df that need renaming to match beef df. They are: {uncommon}')"
   ]
  },
  {
   "cell_type": "markdown",
   "metadata": {},
   "source": [
    "Finally we rename the above mismatching columns so soy and beef column names match prior to concatenating"
   ]
  },
  {
   "cell_type": "code",
   "execution_count": null,
   "metadata": {},
   "outputs": [],
   "source": [
    "#Original name consolidating\n",
    "soy_df = soy_df.rename(columns={'Soy_Deforestation_5_Year_Annual_Risk_Ha': 'Deforest_5Y_Ann_risk', 'Soy_Equivalent_Tonnes': 'Commodity_Eq_Tonnes', 'Zero_Deforestation_Brazil_Soy':'Zero_Deforest_Commit'})\n",
    "beef15_df = beef15_df.rename(columns={'Cattle_Deforestation_5_Year_Annual_Risk': 'Deforest_5Y_Ann_risk', 'Beef_Equivalent_Tonnes':'Commodity_Eq_Tonnes','Land_Use':'Land_Use_Ha', 'Zero_Deforestation_Brazil_Beef': 'Zero_Deforest_Commit'})\n",
    "beef16_df = beef16_df.rename(columns={'Cattle_Deforestation_5_Year_Annual_Risk': 'Deforest_5Y_Ann_risk', 'Beef_Equivalent_Tonnes':'Commodity_Eq_Tonnes','Land_Use':'Land_Use_Ha', 'Zero_Deforestation_Brazil_Beef': 'Zero_Deforest_Commit'})\n",
    "beef17_df= beef17_df.rename(columns={'Cattle_Deforestation_5_Year_Annual_Risk': 'Deforest_5Y_Ann_risk', 'Beef_Equivalent_Tonnes':'Commodity_Eq_Tonnes','Land_Use':'Land_Use_Ha', 'Zero_Deforestation_Brazil_Beef': 'Zero_Deforest_Commit'})"
   ]
  },
  {
   "cell_type": "code",
   "execution_count": null,
   "metadata": {},
   "outputs": [],
   "source": [
    "#Combining soy and beef into one df for 2015-2017\n",
    "frames = [soy_df, beef15_df, beef16_df,beef17_df] #each df has same 16 columns\n",
    "soybeef_df = pd.concat(frames)\n",
    "soybeef_df.shape "
   ]
  },
  {
   "cell_type": "code",
   "execution_count": null,
   "metadata": {},
   "outputs": [],
   "source": [
    "# Saving merged soybeef as .csv\n",
    "soybeef_df.to_csv(r'/Users/angie/Documents/BrainStation_Capstone/data/BraSoyBeef.csv',date_format='%Y')"
   ]
  },
  {
   "cell_type": "code",
   "execution_count": null,
   "metadata": {},
   "outputs": [],
   "source": [
    "# Checking first rows of our combined df\n",
    "soybeef_df.head(2)"
   ]
  },
  {
   "cell_type": "code",
   "execution_count": null,
   "metadata": {
    "scrolled": true
   },
   "outputs": [],
   "source": [
    "# Quickly exploring both crops land use over time\n",
    "sns.lineplot(data=soybeef_df, x=\"Year\", y=\"Land_Use_Ha\", hue=\"Type\")\n",
    "plt.title('Soy and beef land use over time')\n",
    "sns.despine();"
   ]
  },
  {
   "cell_type": "markdown",
   "metadata": {},
   "source": [
    "During this 14 year period, the number of land hectares devoted to soy crops fluctuated around 1200. No strong directional trends are apparent. For plots like these, it's likely better to explore each commodity separately after all or to create a reduced df filtering only for years where both commodities have data.This is the combined dataframe I hope to use to compare both commodities in the overlapping year through visualizations. "
   ]
  },
  {
   "cell_type": "code",
   "execution_count": null,
   "metadata": {},
   "outputs": [],
   "source": [
    "# Didn't figure out quickly how to filter rows by desired date range ( 2015-2017), so filtering just> 2015\n",
    "soybeef_filt_df = soybeef_df[soybeef_df['Year'].dt.strftime('%Y') >= '2015']"
   ]
  },
  {
   "cell_type": "code",
   "execution_count": null,
   "metadata": {
    "scrolled": true
   },
   "outputs": [],
   "source": [
    "sns.lineplot(data=soybeef_filt_df, x=\"Year\", y=\"Land_Use_Ha\", hue=\"Type\")\n",
    "plt.title('Soy and beef land use over time')\n",
    "sns.despine();"
   ]
  },
  {
   "cell_type": "markdown",
   "metadata": {},
   "source": [
    "There appears to be a problem in beef LandUse data, more cleaning and date reformatting is needed in oder to explore it, but due to time constraints, I stoped beef breakdown here."
   ]
  },
  {
   "cell_type": "markdown",
   "metadata": {},
   "source": [
    "For the exploratory data analysis section below, and in order to make sense of more years of data, we will focus only on soy data."
   ]
  },
  {
   "cell_type": "code",
   "execution_count": null,
   "metadata": {},
   "outputs": [],
   "source": [
    "# Random quick check for extremely high (or low) deforestation risks transactions. Here outliers as the 95% percentile\n",
    "deforest_threshold = np.percentile(soy_df['Territorial_Deforestation_Risk_Ha'], 95)\n",
    "deforest_threshold"
   ]
  },
  {
   "cell_type": "code",
   "execution_count": null,
   "metadata": {
    "scrolled": true
   },
   "outputs": [],
   "source": [
    "#Poor attempt at an -invisible- violin plot exploring biomes or regions affected by transactions. More like flute plot\n",
    "ax = sns.violinplot(x=\"Biome\", y=\"Land_Use_Ha\", data=soy_df)\n",
    "plt.title('Land use by biomes')\n",
    "sns.despine();"
   ]
  },
  {
   "cell_type": "code",
   "execution_count": null,
   "metadata": {},
   "outputs": [],
   "source": [
    "soy_df.head(1)"
   ]
  },
  {
   "cell_type": "code",
   "execution_count": null,
   "metadata": {},
   "outputs": [],
   "source": [
    "# A quick loook at deforestation 5 year annual risk suggest it was on a decreasing trend 2015-2017.\n",
    "sns.scatterplot(data=beef_df, x=\"Year\", y=\"Cattle_Deforestation_5_Year_Annual_Risk\");\n",
    "plt.title('Cattle Deforestation 5Y annual risk 2015-2017')\n",
    "sns.despine();"
   ]
  },
  {
   "cell_type": "markdown",
   "metadata": {},
   "source": [
    " ### Exploring num. variable distributions"
   ]
  },
  {
   "cell_type": "code",
   "execution_count": null,
   "metadata": {
    "scrolled": true
   },
   "outputs": [],
   "source": [
    "# Deforestation risk\n",
    "plt.plot(1,3,1)\n",
    "plt.hist(soy_df['Territorial_Deforestation_Risk_Ha'],bins=25, log=True)\n",
    "plt.ylabel('Frequency (log)')\n",
    "plt.title('Soy Deforestation Risk (Ha)')"
   ]
  },
  {
   "cell_type": "markdown",
   "metadata": {},
   "source": [
    "According to this, most transactions have low soy deforestation risk"
   ]
  },
  {
   "cell_type": "code",
   "execution_count": null,
   "metadata": {
    "scrolled": false
   },
   "outputs": [],
   "source": [
    "# Soy Deforestation_5_Year_Annual_Risk_Ha\n",
    "# Deforestation risk\n",
    "plt.plot(1,3,1)\n",
    "plt.hist(soy_df['Land_Use_Ha'],bins=10, log= True )\n",
    "plt.ylabel('Frequency')\n",
    "plt.title('Distribution of Soy Land_Use(Ha)')"
   ]
  },
  {
   "cell_type": "markdown",
   "metadata": {},
   "source": [
    "Not the most informative way to visualize the land use, but, expectedly, most transactions are from <200kHa."
   ]
  },
  {
   "cell_type": "code",
   "execution_count": null,
   "metadata": {},
   "outputs": [],
   "source": [
    "#Creating a reduced version of the data with only numeric variables\n",
    "numerics = ['int16', 'int32', 'int64', 'float16', 'float32', 'float64']\n",
    "soynum_df=soy_df.select_dtypes(include=numerics)\n",
    "soynum_df.shape"
   ]
  },
  {
   "cell_type": "code",
   "execution_count": null,
   "metadata": {
    "scrolled": false
   },
   "outputs": [],
   "source": [
    "# Exploring colinearity between numeric variables for later modelling\n",
    "sns.pairplot(soynum_df, corner=True)\n",
    "plt.show()"
   ]
  },
  {
   "cell_type": "markdown",
   "metadata": {},
   "source": [
    "These plots show some expected linear relationships, for example, the more expansive transactions are in terms of LandUse the more tonnes of soy produced. Similarly,using Fob_Usd as a proxy for transaction (and associated shipment) value, we see more voluminous transactions(higher Commodity_Eq_Tonnes) are associated with higher value (although notice many transactions of ~1tonne are associated with shipment values close to zero). But other relationships are perhaps less intuitive, such as the bottom left corner, showing no linear relationship between territorial deforestation risk and land use. In fact it appears as if transactions with highest deforestation risk are those associated to fewest hectares."
   ]
  },
  {
   "cell_type": "markdown",
   "metadata": {},
   "source": [
    "## Conclusions: <br>\n",
    "\n",
    "I could continue exploring this dataset literally for hours, but due to time constraints I pause for now. For our purposes our main insights are: \n",
    "* Brazil exported soy to 137 countries (2004-2018) and beef to a whopping 150 countries between 2015-2017 alone.\n",
    "* The largest proportion of beef originated from the Amazonia biome.\n",
    "* The largest proportion of soy and beef transactions did not abide to any public Zero deforestation commitment during the study period."
   ]
  }
 ],
 "metadata": {
  "kernelspec": {
   "display_name": "Python 3",
   "language": "python",
   "name": "python3"
  },
  "language_info": {
   "codemirror_mode": {
    "name": "ipython",
    "version": 3
   },
   "file_extension": ".py",
   "mimetype": "text/x-python",
   "name": "python",
   "nbconvert_exporter": "python",
   "pygments_lexer": "ipython3",
   "version": "3.8.5"
  },
  "toc": {
   "base_numbering": 1,
   "nav_menu": {},
   "number_sections": true,
   "sideBar": true,
   "skip_h1_title": false,
   "title_cell": "Table of Contents",
   "title_sidebar": "Contents",
   "toc_cell": false,
   "toc_position": {
    "height": "calc(100% - 180px)",
    "left": "10px",
    "top": "150px",
    "width": "165px"
   },
   "toc_section_display": true,
   "toc_window_display": false
  }
 },
 "nbformat": 4,
 "nbformat_minor": 5
}
